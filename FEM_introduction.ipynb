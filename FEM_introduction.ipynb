{
 "cells": [
  {
   "cell_type": "markdown",
   "metadata": {},
   "source": [
    "#### This is a [jupyter](https://jupyter.org/) notebook that contains text, equations, images and executable code in one document. It makes use of  [FEniCSx](https://fenicsproject.org/), an open-source framework supporting Finite Element Methods."
   ]
  },
  {
   "cell_type": "code",
   "execution_count": 1,
   "metadata": {},
   "outputs": [],
   "source": [
    "import pyvista as pv"
   ]
  },
  {
   "cell_type": "markdown",
   "metadata": {},
   "source": [
    "# Finite Element Method for sound fields\n",
    "## 1 Partition of the domain\n",
    "\n",
    "The first step of the FEM is the partition of the domain into simply shaped sub-domains. These are called the **Finite Elements**. The reason for this will become evident later on, when we will learn how to perform the integration over the domain. The integral is more easy to solve if we split it into a sum of integrals over the elements.\n",
    "\n",
    "\\begin{equation}\n",
    "\\int_\\Omega ... dV = \\sum_i \\int_{\\Omega_i} ... dV\n",
    "\\end{equation}\n",
    "\n",
    "The process of partitioning will generate a **mesh**. A mesh is a collection of nodes end elements. Each element is assigned some nodes, while each node is assigned to one or more elements.\n",
    "\n",
    "### Elements\n",
    "\n",
    "In acoustics, the domain may be one-, two-, or three-dimensional. Depending on the dimensionality, different element shapes may be used.\n",
    "\n",
    "For one-dimensional domains (representing pipes and similar) the elements are lines. Here are some examples of such line elements (straight or curved) with two, three and four nodes:"
   ]
  },
  {
   "cell_type": "code",
   "execution_count": 2,
   "metadata": {},
   "outputs": [
    {
     "data": {
      "application/vnd.jupyter.widget-view+json": {
       "model_id": "be310efd0d444f3dbae101158c9271c6",
       "version_major": 2,
       "version_minor": 0
      },
      "text/plain": [
       "Widget(value='<iframe src=\"http://localhost:46739/index.html?ui=P_0x7aa2494d4050_0&reconnect=auto\" class=\"pyvi…"
      ]
     },
     "metadata": {},
     "output_type": "display_data"
    }
   ],
   "source": [
    "from pyvista import CellType as ct\n",
    "style = {'show_vertices':True, 'cpos':'xy', 'point_size':6, 'render_points_as_spheres':True, 'line_width':3}\n",
    "shapes = [ct.LINE, ct.QUADRATIC_EDGE, ct.CUBIC_LINE]\n",
    "points = [[-1,1,0],[1,1,0],[-1,0.5,0],[1,0.5,0],[0,0.5,0],[-1,0,0],[1,0,0],[-0.33,0,0],[.33,-0,0]]\n",
    "elements = [[2,0,1],[3,2,3,4],[4,5,6,7,8]]\n",
    "pv.UnstructuredGrid(sum(elements,[]), shapes, points).plot(**style)"
   ]
  },
  {
   "cell_type": "markdown",
   "metadata": {},
   "source": [
    "For two-dimensional domains, the elements are generally polygons. It is common to use either triangles or quadrilaterals. Here is an example with triangle elements with three and with six nodes and quadrilateral with four nodes:"
   ]
  },
  {
   "cell_type": "code",
   "execution_count": 3,
   "metadata": {},
   "outputs": [
    {
     "data": {
      "application/vnd.jupyter.widget-view+json": {
       "model_id": "1311cde76d9d40b3891d8f14f0b2de20",
       "version_major": 2,
       "version_minor": 0
      },
      "text/plain": [
       "Widget(value='<iframe src=\"http://localhost:46739/index.html?ui=P_0x7aa1bbc90e10_1&reconnect=auto\" class=\"pyvi…"
      ]
     },
     "metadata": {},
     "output_type": "display_data"
    }
   ],
   "source": [
    "shapes = [ct.TRIANGLE, ct.QUADRATIC_TRIANGLE, ct.QUAD]\n",
    "points = [[0,0,0],[1,0,0],[0.5,0.707,0],[2,0,0],[3,0,0],[2.5,0.707,0],[2.5,0,0],[2.75,0.353,0],[2.25,0.353,0],\n",
    "          [4,0,0],[4.7,0,0],[4.7,0.7,0],[4,0.7,0]]\n",
    "elements = [[3,0,1,2],[6,3,4,5,6,7,8],[4,9,10,11,12]]\n",
    "pv.UnstructuredGrid(sum(elements,[]), shapes, points).plot(**style)"
   ]
  },
  {
   "cell_type": "markdown",
   "metadata": {},
   "source": [
    "Finally, in case of three-dimensional domains, the elements are polyhedrons. Tetrahedron, hexahedron, pyramids and wedges are the most common shapes. The example shows a tretrahedron with four nodes and a hexahedron with eight nodes."
   ]
  },
  {
   "cell_type": "code",
   "execution_count": 4,
   "metadata": {},
   "outputs": [
    {
     "data": {
      "application/vnd.jupyter.widget-view+json": {
       "model_id": "26a4486a75b44280b35bcc0ac6bf4ac8",
       "version_major": 2,
       "version_minor": 0
      },
      "text/plain": [
       "Widget(value='<iframe src=\"http://localhost:46739/index.html?ui=P_0x7aa249587890_2&reconnect=auto\" class=\"pyvi…"
      ]
     },
     "metadata": {},
     "output_type": "display_data"
    }
   ],
   "source": [
    "shapes = [ct.TETRA, ct.HEXAHEDRON]\n",
    "points = [[0,0,0],[1,0,0],[0.5,0.707,0],[0.5,0.35,0.577],[2,0,0],[2.7,0,0],[2.7,0.7,0],[2,0.7,0],[2,0,0.7],[2.7,0,0.7],[2.7,0.7,0.7],[2,0.7,0.7]]\n",
    "elements = [[4,0,1,2,3],[8,4,5,6,7,8,9,10,11]]\n",
    "pv.UnstructuredGrid(sum(elements,[]), shapes, points).plot(**style)"
   ]
  },
  {
   "cell_type": "markdown",
   "metadata": {},
   "source": [
    "### Meshes\n",
    "The partition of a given domain into finite elements can be achieved in many ways. In practice we will rely on some algorithm doing the work. Depending on the kind of algorithm the outcome can be controlled using parameters, such as the minimum or maximum size of the elements or the number of elements.\n",
    "\n",
    "The following example of a 2D domain shaped like a cross-section of a car interior will demonstrate this. It becomes also obvious that the generic triangle shape of the elements needs to get distorted in order to produce the mesh. The algorithm tries to produce a mesh where the elements are not too different in size and have edges that are not too different in length."
   ]
  },
  {
   "cell_type": "code",
   "execution_count": 5,
   "metadata": {},
   "outputs": [
    {
     "data": {
      "application/vnd.jupyter.widget-view+json": {
       "model_id": "7064bdd77b7440b39e39cd3287cfaed2",
       "version_major": 2,
       "version_minor": 0
      },
      "text/plain": [
       "Widget(value='<iframe src=\"http://localhost:46739/index.html?ui=P_0x7aa152b3bc50_3&reconnect=auto\" class=\"pyvi…"
      ]
     },
     "metadata": {},
     "output_type": "display_data"
    }
   ],
   "source": [
    "from mpi4py import MPI\n",
    "import gmsh\n",
    "from dolfinx.io import gmshio\n",
    "from dolfinx import plot\n",
    "# first we set up the 'solid model' which describes the geometry \n",
    "gmsh.initialize()\n",
    "gmsh.option.setNumber(\"General.Terminal\", 0)\n",
    "model = gmsh.model()\n",
    "model.add(\"car\")\n",
    "lc = 4\n",
    "coords = ((0.,0.),(3.,0.),(3.3,1),(4.5,1),(3.5,2),(1.,2),(-.5,1.2))\n",
    "for x,y in coords:\n",
    "    n = model.geo.addPoint(x, y, 0, lc)\n",
    "for i in range(n):\n",
    "    model.geo.addLine(i+1,(i+1)%n+1)\n",
    "model.geo.addCurveLoop(range(1,n+1),1)\n",
    "model.geo.addPlaneSurface([1],1)\n",
    "model.geo.synchronize()\n",
    "model.addPhysicalGroup(2, [1], name=\"My surface\")\n",
    "pl = pv.Plotter(shape=(2,2))\n",
    "# now the geometry is 'meshed'\n",
    "# the example show four different variants of meshes\n",
    "mesh_sizes = (3,1.8,0.6,0.2)\n",
    "for i,m in enumerate(mesh_sizes):\n",
    "    gmsh.option.setNumber(\"Mesh.MeshSizeMax\",m)\n",
    "    model.mesh.generate(dim=1)\n",
    "    model.mesh.generate(dim=2)\n",
    "    car_mesh,_,_ = gmshio.model_to_mesh(model,MPI.COMM_SELF,0,gdim=2)\n",
    "    grid = pv.UnstructuredGrid(*plot.vtk_mesh(car_mesh, 2))\n",
    "    pl.subplot(i//2,i%2)\n",
    "    pl.add_mesh(grid,**{'show_edges':True, 'show_vertices':False})\n",
    "    pl.view_xy()\n",
    "pl.show()"
   ]
  },
  {
   "cell_type": "markdown",
   "metadata": {},
   "source": [
    "Complicated three dimensional shapes are most easily meshed using tetrahedrons. The examples show a car interior shape in 3D and a cutout of a sphere from a cube."
   ]
  },
  {
   "cell_type": "code",
   "execution_count": 6,
   "metadata": {},
   "outputs": [
    {
     "data": {
      "application/vnd.jupyter.widget-view+json": {
       "model_id": "bc85838ba4a34e2081ae4e0a3d156999",
       "version_major": 2,
       "version_minor": 0
      },
      "text/plain": [
       "Widget(value='<iframe src=\"http://localhost:46739/index.html?ui=P_0x7aa152b3bed0_4&reconnect=auto\" class=\"pyvi…"
      ]
     },
     "metadata": {},
     "output_type": "display_data"
    }
   ],
   "source": [
    "gmsh.model.geo.extrude([[2,1]], 0, 0, 1.5)\n",
    "model.geo.synchronize()\n",
    "model.addPhysicalGroup(3, [1], name=\"Car interior 3D\")\n",
    "gmsh.option.setNumber(\"Mesh.MeshSizeMax\",0.5)\n",
    "model.mesh.generate(dim=3)\n",
    "mesh,_,_ = gmshio.model_to_mesh(model,MPI.COMM_SELF,0,gdim=3)\n",
    "gmsh.finalize()\n",
    "grid = pv.UnstructuredGrid(*plot.vtk_mesh(mesh, 3))\n",
    "xx = grid.plot(**{'show_vertices':False, 'show_edges':True, 'cpos': [(-6, 6, 7), (2.0, 1.0, 0.75), (0.0, 1.0, 0.0)]})"
   ]
  },
  {
   "cell_type": "code",
   "execution_count": 7,
   "metadata": {},
   "outputs": [
    {
     "data": {
      "application/vnd.jupyter.widget-view+json": {
       "model_id": "5bc2bd39cbce4bf6bf188531095bdc68",
       "version_major": 2,
       "version_minor": 0
      },
      "text/plain": [
       "Widget(value='<iframe src=\"http://localhost:46739/index.html?ui=P_0x7aa1529cc190_5&reconnect=auto\" class=\"pyvi…"
      ]
     },
     "metadata": {},
     "output_type": "display_data"
    }
   ],
   "source": [
    "gmsh.initialize()\n",
    "gmsh.option.setNumber(\"General.Terminal\", 0)\n",
    "model = gmsh.model()\n",
    "model.add(\"CubeSphere\")\n",
    "sphere = model.occ.addSphere(0.5, 0.5, 0.6, 0.55, tag=1)\n",
    "cube =model.occ.addBox(0,0,0,1,1,1, tag=2)\n",
    "vol = gmsh.model.occ.cut([(3, cube)], [(3, sphere)])\n",
    "model.occ.synchronize()\n",
    "volumes = gmsh.model.getEntities(dim=3)\n",
    "model.addPhysicalGroup(3, [2], name=\"Volume\")\n",
    "gmsh.option.setNumber(\"Mesh.Algorithm\", 1)\n",
    "gmsh.option.setNumber(\"Mesh.MeshSizeMax\",0.1)\n",
    "model.mesh.generate(dim=3)\n",
    "mesh,_,_ = gmshio.model_to_mesh(model,MPI.COMM_SELF,0,gdim=3)\n",
    "gmsh.finalize()\n",
    "grid = pv.UnstructuredGrid(*plot.vtk_mesh(mesh, 3))\n",
    "grid.plot(**{'show_vertices':False, 'show_edges':True, 'cpos': 'iso'})"
   ]
  },
  {
   "cell_type": "markdown",
   "metadata": {},
   "source": [
    "## 2 Interpolation of field quantities inside the finite elements\n",
    "\n",
    "The second step in the FEM is the interpolation of the field quantity (e.g. sound pressure) inside each of the finite elements. This can be achieved using a general interpolation\n",
    "\n",
    "\\begin{equation}\n",
    "p(\\mathbf{x})=\\sum_i N_i(\\mathbf{x}) p_i=\\mathbf{N}^\\mathrm{T}\\mathbf{p}\n",
    "\\end{equation}\n",
    "\n",
    "where the supporting points $i$ are the nodes of the finite element (see examples). The interpolating functions are the **shape functions** $N_i$. The choice of these shape functions is important to provide some mathematical properties to the interpolation that are of advantage later on, when the interpolation is used as part of integrands. The values of the field quantity (or generally field quantities) $p_i$ at the nodes are the **degrees of freedom** (DOF). In acoustics it is often sufficient to have just one DOF - the sound pressure $p$."
   ]
  },
  {
   "cell_type": "markdown",
   "metadata": {},
   "source": [
    "## 3 Integral formulation\n",
    "To complete the FEM, we need a formulation of the generic problem (PDE, BC) in a form with only integrals. These have then to be computed. This can be achieved by either using\n",
    "- a variational approach to formulate the integrals (the PDE is needed only implicitly)\n",
    "- the transformation of the PDE into definite integrals over the elements\n",
    "\n",
    "We will have a look into the details later on. To wet you appetite, we use the car interior from above and compute the sound field produced by a source at a frequency of 200 Hz."
   ]
  },
  {
   "cell_type": "code",
   "execution_count": 8,
   "metadata": {},
   "outputs": [
    {
     "data": {
      "application/vnd.jupyter.widget-view+json": {
       "model_id": "1c89b2571ac346c294a5730afb570696",
       "version_major": 2,
       "version_minor": 0
      },
      "text/plain": [
       "Widget(value='<iframe src=\"http://localhost:46739/index.html?ui=P_0x7aa1529cc7d0_6&reconnect=auto\" class=\"pyvi…"
      ]
     },
     "metadata": {},
     "output_type": "display_data"
    }
   ],
   "source": [
    "import numpy as np\n",
    "import ufl\n",
    "from dolfinx import fem\n",
    "from dolfinx.fem.petsc import LinearProblem\n",
    "om = 210.*2*np.pi\n",
    "c = 343.\n",
    "# function space and functions\n",
    "V = fem.functionspace(car_mesh,(\"Lagrange\", 1))\n",
    "k0 = fem.Constant(car_mesh,om/c)\n",
    "u = ufl.TrialFunction(V)\n",
    "v = ufl.TestFunction(V)\n",
    "# source\n",
    "Sx, Sy = 1.0,1.0\n",
    "alfa = 0.015\n",
    "delta_tmp = fem.Function(V)\n",
    "delta_tmp.interpolate(lambda x : np.exp(-(((x[0]-Sx)**2+(x[1]-Sy)**2)/(alfa**2))))\n",
    "int_delta_tmp = fem.assemble_scalar(fem.form(delta_tmp*ufl.dx)) \n",
    "f = delta_tmp/int_delta_tmp\n",
    "# weak form\n",
    "a = ufl.inner(ufl.grad(u), ufl.grad(v)) * ufl.dx - k0**2 * ufl.inner(u, v) * ufl.dx\n",
    "L = ufl.inner(f, v) * ufl.dx\n",
    "# solution\n",
    "p = LinearProblem(a, L).solve()\n",
    "# visualization\n",
    "grid = pv.UnstructuredGrid(*plot.vtk_mesh(car_mesh, 2))\n",
    "grid.point_data['p'] = p.x.array\n",
    "pl = pv.Plotter()\n",
    "pl.add_mesh(grid, show_edges=True, edge_color='gray')\n",
    "pl.add_mesh(pv.Sphere(0.05,(1,1,0)),color='red')\n",
    "pl.view_xy()\n",
    "pl.show()"
   ]
  },
  {
   "cell_type": "markdown",
   "metadata": {},
   "source": [
    "#### License\n",
    "\n",
    "This notebook is an [Open Educational Resource](https://en.wikipedia.org/wiki/Open_educational_resources). Feel free to use it for your own purposes. The text and the images are licensed under [Creative Commons Attribution 4.0](https://creativecommons.org/licenses/by/4.0/), and any code under the [MIT license](https://opensource.org/licenses/MIT). Please attribute the work as follows: Ennes Sarradj, Numerical Acoustics: Finite Element Method for sound fields, 2025."
   ]
  },
  {
   "cell_type": "code",
   "execution_count": null,
   "metadata": {},
   "outputs": [],
   "source": []
  }
 ],
 "metadata": {
  "kernelspec": {
   "display_name": "Python 3 (ipykernel)",
   "language": "python",
   "name": "python3"
  },
  "language_info": {
   "codemirror_mode": {
    "name": "ipython",
    "version": 3
   },
   "file_extension": ".py",
   "mimetype": "text/x-python",
   "name": "python",
   "nbconvert_exporter": "python",
   "pygments_lexer": "ipython3",
   "version": "3.13.3"
  },
  "latex_envs": {
   "LaTeX_envs_menu_present": true,
   "autoclose": false,
   "autocomplete": true,
   "bibliofile": "biblio.bib",
   "cite_by": "apalike",
   "current_citInitial": 1,
   "eqLabelWithNumbers": true,
   "eqNumInitial": 1,
   "hotkeys": {
    "equation": "Ctrl-E",
    "itemize": "Ctrl-I"
   },
   "labels_anchors": false,
   "latex_user_defs": false,
   "report_style_numbering": false,
   "user_envs_cfg": false
  },
  "varInspector": {
   "cols": {
    "lenName": 16,
    "lenType": 16,
    "lenVar": 40
   },
   "kernels_config": {
    "python": {
     "delete_cmd_postfix": "",
     "delete_cmd_prefix": "del ",
     "library": "var_list.py",
     "varRefreshCmd": "print(var_dic_list())"
    },
    "r": {
     "delete_cmd_postfix": ") ",
     "delete_cmd_prefix": "rm(",
     "library": "var_list.r",
     "varRefreshCmd": "cat(var_dic_list()) "
    }
   },
   "oldHeight": 122.466666,
   "position": {
    "height": "296px",
    "left": "1107px",
    "right": "37px",
    "top": "141px",
    "width": "328px"
   },
   "types_to_exclude": [
    "module",
    "function",
    "builtin_function_or_method",
    "instance",
    "_Feature"
   ],
   "varInspector_section_display": "block",
   "window_display": false
  },
  "widgets": {
   "application/vnd.jupyter.widget-state+json": {
    "state": {},
    "version_major": 2,
    "version_minor": 0
   }
  }
 },
 "nbformat": 4,
 "nbformat_minor": 4
}
